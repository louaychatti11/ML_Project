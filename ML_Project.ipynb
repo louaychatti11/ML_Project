{
  "nbformat": 4,
  "nbformat_minor": 0,
  "metadata": {
    "colab": {
      "name": "ML Project.ipynb",
      "provenance": [],
      "collapsed_sections": []
    },
    "kernelspec": {
      "name": "python3",
      "display_name": "Python 3"
    },
    "language_info": {
      "name": "python"
    }
  },
  "cells": [
    {
      "cell_type": "code",
      "metadata": {
        "id": "Sinh-mB8KHB9"
      },
      "source": [
        "import pandas as pd\n",
        "import numpy as np\n",
        "import matplotlib.pyplot as plt\n",
        "import seaborn as sns\n",
        "from sklearn.preprocessing import LabelEncoder as encoder\n",
        "from sklearn.model_selection import train_test_split\n",
        "from sklearn.linear_model import LinearRegression\n",
        "from sklearn.preprocessing import PolynomialFeatures\n",
        "from sklearn.ensemble import RandomForestRegressor\n",
        "from sklearn.tree import DecisionTreeRegressor\n",
        "from sklearn import metrics"
      ],
      "execution_count": 646,
      "outputs": []
    },
    {
      "cell_type": "code",
      "metadata": {
        "colab": {
          "base_uri": "https://localhost:8080/",
          "height": 221
        },
        "id": "honffa8ZKbUe",
        "outputId": "8005aa27-31a3-4062-9031-7df73b1d81ef"
      },
      "source": [
        "dataset = pd.read_csv('stubbs_africahappiness.csv')\n",
        "dataset.head()"
      ],
      "execution_count": 647,
      "outputs": [
        {
          "output_type": "execute_result",
          "data": {
            "text/html": [
              "<div>\n",
              "<style scoped>\n",
              "    .dataframe tbody tr th:only-of-type {\n",
              "        vertical-align: middle;\n",
              "    }\n",
              "\n",
              "    .dataframe tbody tr th {\n",
              "        vertical-align: top;\n",
              "    }\n",
              "\n",
              "    .dataframe thead th {\n",
              "        text-align: right;\n",
              "    }\n",
              "</style>\n",
              "<table border=\"1\" class=\"dataframe\">\n",
              "  <thead>\n",
              "    <tr style=\"text-align: right;\">\n",
              "      <th></th>\n",
              "      <th>Country Name</th>\n",
              "      <th>Regional Indicator</th>\n",
              "      <th>Happiness Scores</th>\n",
              "      <th>Social Support</th>\n",
              "      <th>Healthy Life Expectancy</th>\n",
              "      <th>Freedom to Make Life Choices</th>\n",
              "      <th>Generosity</th>\n",
              "      <th>Perceptions of Corruption</th>\n",
              "    </tr>\n",
              "  </thead>\n",
              "  <tbody>\n",
              "    <tr>\n",
              "      <th>0</th>\n",
              "      <td>Finland</td>\n",
              "      <td>Europe</td>\n",
              "      <td>7.8087</td>\n",
              "      <td>0.954330</td>\n",
              "      <td>71.900825</td>\n",
              "      <td>0.949172</td>\n",
              "      <td>-0.059482</td>\n",
              "      <td>0.195445</td>\n",
              "    </tr>\n",
              "    <tr>\n",
              "      <th>1</th>\n",
              "      <td>Denmark</td>\n",
              "      <td>Europe</td>\n",
              "      <td>7.6456</td>\n",
              "      <td>0.955991</td>\n",
              "      <td>72.402504</td>\n",
              "      <td>0.951444</td>\n",
              "      <td>0.066202</td>\n",
              "      <td>0.168489</td>\n",
              "    </tr>\n",
              "    <tr>\n",
              "      <th>2</th>\n",
              "      <td>Switzerland</td>\n",
              "      <td>Europe</td>\n",
              "      <td>7.5599</td>\n",
              "      <td>0.942847</td>\n",
              "      <td>74.102448</td>\n",
              "      <td>0.921337</td>\n",
              "      <td>0.105911</td>\n",
              "      <td>0.303728</td>\n",
              "    </tr>\n",
              "    <tr>\n",
              "      <th>3</th>\n",
              "      <td>Iceland</td>\n",
              "      <td>Europe</td>\n",
              "      <td>7.5045</td>\n",
              "      <td>0.974670</td>\n",
              "      <td>73.000000</td>\n",
              "      <td>0.948892</td>\n",
              "      <td>0.246944</td>\n",
              "      <td>0.711710</td>\n",
              "    </tr>\n",
              "    <tr>\n",
              "      <th>4</th>\n",
              "      <td>Norway</td>\n",
              "      <td>Europe</td>\n",
              "      <td>7.4880</td>\n",
              "      <td>0.952487</td>\n",
              "      <td>73.200783</td>\n",
              "      <td>0.955750</td>\n",
              "      <td>0.134533</td>\n",
              "      <td>0.263218</td>\n",
              "    </tr>\n",
              "  </tbody>\n",
              "</table>\n",
              "</div>"
            ],
            "text/plain": [
              "  Country Name Regional Indicator  ...  Generosity  Perceptions of Corruption\n",
              "0      Finland             Europe  ...   -0.059482                   0.195445\n",
              "1      Denmark             Europe  ...    0.066202                   0.168489\n",
              "2  Switzerland             Europe  ...    0.105911                   0.303728\n",
              "3      Iceland             Europe  ...    0.246944                   0.711710\n",
              "4       Norway             Europe  ...    0.134533                   0.263218\n",
              "\n",
              "[5 rows x 8 columns]"
            ]
          },
          "metadata": {
            "tags": []
          },
          "execution_count": 647
        }
      ]
    },
    {
      "cell_type": "markdown",
      "metadata": {
        "id": "yAgQAfFlKq2F"
      },
      "source": [
        "*   **Country Name** : Name of country\n",
        "*   **Regional Indicator** : Location or Continent\n",
        "*   **Happiness Scores** : The national average response to this question \"How would you rate your current life on a scale from 0 to 10?\"\n",
        "*   **Social Support** : The national average of the binary responses to this question “If you were in trouble, do you have relatives or friends you can count on to help you whenever you need them, or not?”\n",
        "*   **Healthy Life Expectancy** : The estimate of how many years a person might live in a 'healthy' state in a certain country. (66.9 in Tunisia).\n",
        "*   **Freedom to Make Life Choices** : The national average of the binary responses to this question “Are are you satisfied with your freedom to choose what you do with your life, or not?”\n",
        "*   **Generosity** : The national average of the binary responses to this question “Have you donated money to a charity in the past month?”\n",
        "*   **Perceptions of Corruption** : The national average of the binary responses to this question “Is corruption widespread throughout the government and businesses or not?”\n",
        "\n",
        "*The purpose is to create a machine learing model that can predict the happiness score based on personal answers.*\n"
      ]
    },
    {
      "cell_type": "code",
      "metadata": {
        "colab": {
          "base_uri": "https://localhost:8080/"
        },
        "id": "9LApRZWnMHpF",
        "outputId": "f2c0ebbc-16e7-4587-8ad1-6dfce0d0747b"
      },
      "source": [
        "dataset.info()"
      ],
      "execution_count": 648,
      "outputs": [
        {
          "output_type": "stream",
          "text": [
            "<class 'pandas.core.frame.DataFrame'>\n",
            "RangeIndex: 155 entries, 0 to 154\n",
            "Data columns (total 8 columns):\n",
            " #   Column                        Non-Null Count  Dtype  \n",
            "---  ------                        --------------  -----  \n",
            " 0   Country Name                  153 non-null    object \n",
            " 1   Regional Indicator            153 non-null    object \n",
            " 2   Happiness Scores              154 non-null    float64\n",
            " 3   Social Support                153 non-null    float64\n",
            " 4   Healthy Life Expectancy       153 non-null    float64\n",
            " 5   Freedom to Make Life Choices  153 non-null    float64\n",
            " 6   Generosity                    153 non-null    float64\n",
            " 7   Perceptions of Corruption     153 non-null    float64\n",
            "dtypes: float64(6), object(2)\n",
            "memory usage: 9.8+ KB\n"
          ],
          "name": "stdout"
        }
      ]
    },
    {
      "cell_type": "code",
      "metadata": {
        "colab": {
          "base_uri": "https://localhost:8080/",
          "height": 238
        },
        "id": "mUSXsBBzS43_",
        "outputId": "37ce142b-5338-4495-ca23-68871eda3fe5"
      },
      "source": [
        "dataset = dataset.iloc[0:153,1:] #dropping rows with missing data and unimportant column\n",
        "print(dataset.isnull().sum().sum())\n",
        "dataset.head()"
      ],
      "execution_count": 649,
      "outputs": [
        {
          "output_type": "stream",
          "text": [
            "0\n"
          ],
          "name": "stdout"
        },
        {
          "output_type": "execute_result",
          "data": {
            "text/html": [
              "<div>\n",
              "<style scoped>\n",
              "    .dataframe tbody tr th:only-of-type {\n",
              "        vertical-align: middle;\n",
              "    }\n",
              "\n",
              "    .dataframe tbody tr th {\n",
              "        vertical-align: top;\n",
              "    }\n",
              "\n",
              "    .dataframe thead th {\n",
              "        text-align: right;\n",
              "    }\n",
              "</style>\n",
              "<table border=\"1\" class=\"dataframe\">\n",
              "  <thead>\n",
              "    <tr style=\"text-align: right;\">\n",
              "      <th></th>\n",
              "      <th>Regional Indicator</th>\n",
              "      <th>Happiness Scores</th>\n",
              "      <th>Social Support</th>\n",
              "      <th>Healthy Life Expectancy</th>\n",
              "      <th>Freedom to Make Life Choices</th>\n",
              "      <th>Generosity</th>\n",
              "      <th>Perceptions of Corruption</th>\n",
              "    </tr>\n",
              "  </thead>\n",
              "  <tbody>\n",
              "    <tr>\n",
              "      <th>0</th>\n",
              "      <td>Europe</td>\n",
              "      <td>7.8087</td>\n",
              "      <td>0.954330</td>\n",
              "      <td>71.900825</td>\n",
              "      <td>0.949172</td>\n",
              "      <td>-0.059482</td>\n",
              "      <td>0.195445</td>\n",
              "    </tr>\n",
              "    <tr>\n",
              "      <th>1</th>\n",
              "      <td>Europe</td>\n",
              "      <td>7.6456</td>\n",
              "      <td>0.955991</td>\n",
              "      <td>72.402504</td>\n",
              "      <td>0.951444</td>\n",
              "      <td>0.066202</td>\n",
              "      <td>0.168489</td>\n",
              "    </tr>\n",
              "    <tr>\n",
              "      <th>2</th>\n",
              "      <td>Europe</td>\n",
              "      <td>7.5599</td>\n",
              "      <td>0.942847</td>\n",
              "      <td>74.102448</td>\n",
              "      <td>0.921337</td>\n",
              "      <td>0.105911</td>\n",
              "      <td>0.303728</td>\n",
              "    </tr>\n",
              "    <tr>\n",
              "      <th>3</th>\n",
              "      <td>Europe</td>\n",
              "      <td>7.5045</td>\n",
              "      <td>0.974670</td>\n",
              "      <td>73.000000</td>\n",
              "      <td>0.948892</td>\n",
              "      <td>0.246944</td>\n",
              "      <td>0.711710</td>\n",
              "    </tr>\n",
              "    <tr>\n",
              "      <th>4</th>\n",
              "      <td>Europe</td>\n",
              "      <td>7.4880</td>\n",
              "      <td>0.952487</td>\n",
              "      <td>73.200783</td>\n",
              "      <td>0.955750</td>\n",
              "      <td>0.134533</td>\n",
              "      <td>0.263218</td>\n",
              "    </tr>\n",
              "  </tbody>\n",
              "</table>\n",
              "</div>"
            ],
            "text/plain": [
              "  Regional Indicator  Happiness Scores  ...  Generosity  Perceptions of Corruption\n",
              "0             Europe            7.8087  ...   -0.059482                   0.195445\n",
              "1             Europe            7.6456  ...    0.066202                   0.168489\n",
              "2             Europe            7.5599  ...    0.105911                   0.303728\n",
              "3             Europe            7.5045  ...    0.246944                   0.711710\n",
              "4             Europe            7.4880  ...    0.134533                   0.263218\n",
              "\n",
              "[5 rows x 7 columns]"
            ]
          },
          "metadata": {
            "tags": []
          },
          "execution_count": 649
        }
      ]
    },
    {
      "cell_type": "code",
      "metadata": {
        "colab": {
          "base_uri": "https://localhost:8080/",
          "height": 228
        },
        "id": "YuFV9nwvmL0O",
        "outputId": "3f8a6f9f-a621-4579-b49c-d9c11e8a18b8"
      },
      "source": [
        "plt.figure(figsize=(15,3))\n",
        "plt.bar(dataset['Regional Indicator'], dataset['Happiness Scores'], width=.9, color='grey')"
      ],
      "execution_count": 650,
      "outputs": [
        {
          "output_type": "execute_result",
          "data": {
            "text/plain": [
              "<BarContainer object of 153 artists>"
            ]
          },
          "metadata": {
            "tags": []
          },
          "execution_count": 650
        },
        {
          "output_type": "display_data",
          "data": {
            "image/png": "[encoded data removed]",
            "text/plain": [
              "<Figure size 1080x216 with 1 Axes>"
            ]
          },
          "metadata": {
            "tags": [],
            "needs_background": "light"
          }
        }
      ]
    },
    {
      "cell_type": "code",
      "metadata": {
        "colab": {
          "base_uri": "https://localhost:8080/",
          "height": 221
        },
        "id": "Vh9jJPxmTRQl",
        "outputId": "ce15fdb1-6d07-485a-e864-e4a08fdc5c3b"
      },
      "source": [
        "dataset['Regional Indicator'] = encoder().fit_transform(dataset['Regional Indicator']) #Transforming data from categorical to numerical\n",
        "dataset.head()"
      ],
      "execution_count": 651,
      "outputs": [
        {
          "output_type": "execute_result",
          "data": {
            "text/html": [
              "<div>\n",
              "<style scoped>\n",
              "    .dataframe tbody tr th:only-of-type {\n",
              "        vertical-align: middle;\n",
              "    }\n",
              "\n",
              "    .dataframe tbody tr th {\n",
              "        vertical-align: top;\n",
              "    }\n",
              "\n",
              "    .dataframe thead th {\n",
              "        text-align: right;\n",
              "    }\n",
              "</style>\n",
              "<table border=\"1\" class=\"dataframe\">\n",
              "  <thead>\n",
              "    <tr style=\"text-align: right;\">\n",
              "      <th></th>\n",
              "      <th>Regional Indicator</th>\n",
              "      <th>Happiness Scores</th>\n",
              "      <th>Social Support</th>\n",
              "      <th>Healthy Life Expectancy</th>\n",
              "      <th>Freedom to Make Life Choices</th>\n",
              "      <th>Generosity</th>\n",
              "      <th>Perceptions of Corruption</th>\n",
              "    </tr>\n",
              "  </thead>\n",
              "  <tbody>\n",
              "    <tr>\n",
              "      <th>0</th>\n",
              "      <td>2</td>\n",
              "      <td>7.8087</td>\n",
              "      <td>0.954330</td>\n",
              "      <td>71.900825</td>\n",
              "      <td>0.949172</td>\n",
              "      <td>-0.059482</td>\n",
              "      <td>0.195445</td>\n",
              "    </tr>\n",
              "    <tr>\n",
              "      <th>1</th>\n",
              "      <td>2</td>\n",
              "      <td>7.6456</td>\n",
              "      <td>0.955991</td>\n",
              "      <td>72.402504</td>\n",
              "      <td>0.951444</td>\n",
              "      <td>0.066202</td>\n",
              "      <td>0.168489</td>\n",
              "    </tr>\n",
              "    <tr>\n",
              "      <th>2</th>\n",
              "      <td>2</td>\n",
              "      <td>7.5599</td>\n",
              "      <td>0.942847</td>\n",
              "      <td>74.102448</td>\n",
              "      <td>0.921337</td>\n",
              "      <td>0.105911</td>\n",
              "      <td>0.303728</td>\n",
              "    </tr>\n",
              "    <tr>\n",
              "      <th>3</th>\n",
              "      <td>2</td>\n",
              "      <td>7.5045</td>\n",
              "      <td>0.974670</td>\n",
              "      <td>73.000000</td>\n",
              "      <td>0.948892</td>\n",
              "      <td>0.246944</td>\n",
              "      <td>0.711710</td>\n",
              "    </tr>\n",
              "    <tr>\n",
              "      <th>4</th>\n",
              "      <td>2</td>\n",
              "      <td>7.4880</td>\n",
              "      <td>0.952487</td>\n",
              "      <td>73.200783</td>\n",
              "      <td>0.955750</td>\n",
              "      <td>0.134533</td>\n",
              "      <td>0.263218</td>\n",
              "    </tr>\n",
              "  </tbody>\n",
              "</table>\n",
              "</div>"
            ],
            "text/plain": [
              "   Regional Indicator  Happiness Scores  ...  Generosity  Perceptions of Corruption\n",
              "0                   2            7.8087  ...   -0.059482                   0.195445\n",
              "1                   2            7.6456  ...    0.066202                   0.168489\n",
              "2                   2            7.5599  ...    0.105911                   0.303728\n",
              "3                   2            7.5045  ...    0.246944                   0.711710\n",
              "4                   2            7.4880  ...    0.134533                   0.263218\n",
              "\n",
              "[5 rows x 7 columns]"
            ]
          },
          "metadata": {
            "tags": []
          },
          "execution_count": 651
        }
      ]
    },
    {
      "cell_type": "code",
      "metadata": {
        "colab": {
          "base_uri": "https://localhost:8080/",
          "height": 298
        },
        "id": "iBAMQgop-4PY",
        "outputId": "7545b1f5-cdac-4d53-fa80-6829e4700d18"
      },
      "source": [
        "plt.scatter(dataset['Social Support'], dataset['Happiness Scores'], c='r', alpha=.6)\n",
        "plt.xlabel('Social Support')\n",
        "plt.ylabel('Happiness Scores')"
      ],
      "execution_count": 652,
      "outputs": [
        {
          "output_type": "execute_result",
          "data": {
            "text/plain": [
              "Text(0, 0.5, 'Happiness Scores')"
            ]
          },
          "metadata": {
            "tags": []
          },
          "execution_count": 652
        },
        {
          "output_type": "display_data",
          "data": {
            "image/png": "[encoded data removed]",
            "text/plain": [
              "<Figure size 432x288 with 1 Axes>"
            ]
          },
          "metadata": {
            "tags": [],
            "needs_background": "light"
          }
        }
      ]
    },
    {
      "cell_type": "code",
      "metadata": {
        "colab": {
          "base_uri": "https://localhost:8080/",
          "height": 284
        },
        "id": "yvv-xYIQxjft",
        "outputId": "eae04094-83ff-47eb-b981-4c44fb933299"
      },
      "source": [
        "dataset['Social Support'].plot.box()"
      ],
      "execution_count": 653,
      "outputs": [
        {
          "output_type": "execute_result",
          "data": {
            "text/plain": [
              "<matplotlib.axes._subplots.AxesSubplot at 0x7f500e179290>"
            ]
          },
          "metadata": {
            "tags": []
          },
          "execution_count": 653
        },
        {
          "output_type": "display_data",
          "data": {
            "image/png": "[encoded data removed]",
            "text/plain": [
              "<Figure size 432x288 with 1 Axes>"
            ]
          },
          "metadata": {
            "tags": [],
            "needs_background": "light"
          }
        }
      ]
    },
    {
      "cell_type": "code",
      "metadata": {
        "colab": {
          "base_uri": "https://localhost:8080/",
          "height": 282
        },
        "id": "PpxhezrKz4ep",
        "outputId": "39ad46c0-9d4d-49a3-8fda-8472b0065915"
      },
      "source": [
        "dataset = dataset[(dataset['Social Support'] > .5)] #Getting rid of outliers\n",
        "dataset['Social Support'].plot.box()"
      ],
      "execution_count": 654,
      "outputs": [
        {
          "output_type": "execute_result",
          "data": {
            "text/plain": [
              "<matplotlib.axes._subplots.AxesSubplot at 0x7f500e149090>"
            ]
          },
          "metadata": {
            "tags": []
          },
          "execution_count": 654
        },
        {
          "output_type": "display_data",
          "data": {
            "image/png": "[encoded data removed]",
            "text/plain": [
              "<Figure size 432x288 with 1 Axes>"
            ]
          },
          "metadata": {
            "tags": [],
            "needs_background": "light"
          }
        }
      ]
    },
    {
      "cell_type": "code",
      "metadata": {
        "colab": {
          "base_uri": "https://localhost:8080/",
          "height": 298
        },
        "id": "m-tD03haAw3I",
        "outputId": "5c3fceb2-4ef8-49e2-9105-76dc945c6ecf"
      },
      "source": [
        "plt.scatter(dataset['Healthy Life Expectancy'], dataset['Happiness Scores'], c='b', alpha=.6)\n",
        "plt.xlabel('Healthy Life Expectancy')\n",
        "plt.ylabel('Happiness Scores')"
      ],
      "execution_count": 655,
      "outputs": [
        {
          "output_type": "execute_result",
          "data": {
            "text/plain": [
              "Text(0, 0.5, 'Happiness Scores')"
            ]
          },
          "metadata": {
            "tags": []
          },
          "execution_count": 655
        },
        {
          "output_type": "display_data",
          "data": {
            "image/png": "[encoded data removed]",
            "text/plain": [
              "<Figure size 432x288 with 1 Axes>"
            ]
          },
          "metadata": {
            "tags": [],
            "needs_background": "light"
          }
        }
      ]
    },
    {
      "cell_type": "code",
      "metadata": {
        "colab": {
          "base_uri": "https://localhost:8080/",
          "height": 282
        },
        "id": "ecLPsgT-yveq",
        "outputId": "ba6afcd3-40bc-441e-bc8f-4a2db941ffaf"
      },
      "source": [
        "dataset['Healthy Life Expectancy'].plot.box()"
      ],
      "execution_count": 656,
      "outputs": [
        {
          "output_type": "execute_result",
          "data": {
            "text/plain": [
              "<matplotlib.axes._subplots.AxesSubplot at 0x7f500e029fd0>"
            ]
          },
          "metadata": {
            "tags": []
          },
          "execution_count": 656
        },
        {
          "output_type": "display_data",
          "data": {
            "image/png": "[encoded data removed]",
            "text/plain": [
              "<Figure size 432x288 with 1 Axes>"
            ]
          },
          "metadata": {
            "tags": [],
            "needs_background": "light"
          }
        }
      ]
    },
    {
      "cell_type": "code",
      "metadata": {
        "colab": {
          "base_uri": "https://localhost:8080/",
          "height": 298
        },
        "id": "ABo8rkqbA36T",
        "outputId": "d74e4b75-2e2a-42db-f3b9-6b8051ce3f81"
      },
      "source": [
        "plt.scatter(dataset['Freedom to Make Life Choices'], dataset['Happiness Scores'], c='y', alpha=.6)\n",
        "plt.xlabel('Freedom to Make Life Choices')\n",
        "plt.ylabel('Happiness Scores')"
      ],
      "execution_count": 657,
      "outputs": [
        {
          "output_type": "execute_result",
          "data": {
            "text/plain": [
              "Text(0, 0.5, 'Happiness Scores')"
            ]
          },
          "metadata": {
            "tags": []
          },
          "execution_count": 657
        },
        {
          "output_type": "display_data",
          "data": {
            "image/png": "[encoded data removed]",
            "text/plain": [
              "<Figure size 432x288 with 1 Axes>"
            ]
          },
          "metadata": {
            "tags": [],
            "needs_background": "light"
          }
        }
      ]
    },
    {
      "cell_type": "code",
      "metadata": {
        "colab": {
          "base_uri": "https://localhost:8080/",
          "height": 286
        },
        "id": "yCocEz5Qy0Z8",
        "outputId": "4716fad5-4ddd-45c2-b22f-60306db98c26"
      },
      "source": [
        "dataset['Freedom to Make Life Choices'].plot.box()"
      ],
      "execution_count": 658,
      "outputs": [
        {
          "output_type": "execute_result",
          "data": {
            "text/plain": [
              "<matplotlib.axes._subplots.AxesSubplot at 0x7f500df83b50>"
            ]
          },
          "metadata": {
            "tags": []
          },
          "execution_count": 658
        },
        {
          "output_type": "display_data",
          "data": {
            "image/png": "[encoded data removed]",
            "text/plain": [
              "<Figure size 432x288 with 1 Axes>"
            ]
          },
          "metadata": {
            "tags": [],
            "needs_background": "light"
          }
        }
      ]
    },
    {
      "cell_type": "code",
      "metadata": {
        "colab": {
          "base_uri": "https://localhost:8080/",
          "height": 282
        },
        "id": "AccLaHnl1flA",
        "outputId": "404d7e2f-e6d2-4333-f7fa-58261d03ec87"
      },
      "source": [
        "dataset = dataset[(dataset['Freedom to Make Life Choices'] > .5)] #Getting rid of outliers\n",
        "dataset['Freedom to Make Life Choices'].plot.box()"
      ],
      "execution_count": 659,
      "outputs": [
        {
          "output_type": "execute_result",
          "data": {
            "text/plain": [
              "<matplotlib.axes._subplots.AxesSubplot at 0x7f500dee4350>"
            ]
          },
          "metadata": {
            "tags": []
          },
          "execution_count": 659
        },
        {
          "output_type": "display_data",
          "data": {
            "image/png": "[encoded data removed]",
            "text/plain": [
              "<Figure size 432x288 with 1 Axes>"
            ]
          },
          "metadata": {
            "tags": [],
            "needs_background": "light"
          }
        }
      ]
    },
    {
      "cell_type": "code",
      "metadata": {
        "colab": {
          "base_uri": "https://localhost:8080/",
          "height": 299
        },
        "id": "L9HWuo--A6J8",
        "outputId": "62c17f9a-779f-4248-a7bf-7fff19f0be95"
      },
      "source": [
        "plt.scatter(dataset['Generosity'], dataset['Happiness Scores'], c='g', alpha=.6)\n",
        "plt.xlabel('Generosity')\n",
        "plt.ylabel('Happiness Scores')"
      ],
      "execution_count": 660,
      "outputs": [
        {
          "output_type": "execute_result",
          "data": {
            "text/plain": [
              "Text(0, 0.5, 'Happiness Scores')"
            ]
          },
          "metadata": {
            "tags": []
          },
          "execution_count": 660
        },
        {
          "output_type": "display_data",
          "data": {
            "image/png": "[encoded data removed]",
            "text/plain": [
              "<Figure size 432x288 with 1 Axes>"
            ]
          },
          "metadata": {
            "tags": [],
            "needs_background": "light"
          }
        }
      ]
    },
    {
      "cell_type": "code",
      "metadata": {
        "colab": {
          "base_uri": "https://localhost:8080/",
          "height": 285
        },
        "id": "5f3AdXlVy5Fp",
        "outputId": "beb87074-307d-47f3-92c0-0c019e0b3829"
      },
      "source": [
        "dataset['Generosity'].plot.box()"
      ],
      "execution_count": 661,
      "outputs": [
        {
          "output_type": "execute_result",
          "data": {
            "text/plain": [
              "<matplotlib.axes._subplots.AxesSubplot at 0x7f500de177d0>"
            ]
          },
          "metadata": {
            "tags": []
          },
          "execution_count": 661
        },
        {
          "output_type": "display_data",
          "data": {
            "image/png": "[encoded data removed]",
            "text/plain": [
              "<Figure size 432x288 with 1 Axes>"
            ]
          },
          "metadata": {
            "tags": [],
            "needs_background": "light"
          }
        }
      ]
    },
    {
      "cell_type": "code",
      "metadata": {
        "colab": {
          "base_uri": "https://localhost:8080/",
          "height": 282
        },
        "id": "D9hMVjtv1mi8",
        "outputId": "9b129c49-89f3-4dbd-c00b-8b9179031767"
      },
      "source": [
        "dataset = dataset[(dataset['Generosity'] < .5)] #Getting rid of outliers\n",
        "dataset['Generosity'].plot.box()"
      ],
      "execution_count": 662,
      "outputs": [
        {
          "output_type": "execute_result",
          "data": {
            "text/plain": [
              "<matplotlib.axes._subplots.AxesSubplot at 0x7f500dde3290>"
            ]
          },
          "metadata": {
            "tags": []
          },
          "execution_count": 662
        },
        {
          "output_type": "display_data",
          "data": {
            "image/png": "[encoded data removed]",
            "text/plain": [
              "<Figure size 432x288 with 1 Axes>"
            ]
          },
          "metadata": {
            "tags": [],
            "needs_background": "light"
          }
        }
      ]
    },
    {
      "cell_type": "code",
      "metadata": {
        "colab": {
          "base_uri": "https://localhost:8080/",
          "height": 299
        },
        "id": "uT68kTosA6wd",
        "outputId": "6beb533c-c3f1-41fa-dc50-105b55a54c2b"
      },
      "source": [
        "plt.scatter(dataset['Perceptions of Corruption'], dataset['Happiness Scores'], c='magenta', alpha=.6)\n",
        "plt.xlabel('Perceptions of Corruption')\n",
        "plt.ylabel('Happiness Scores')"
      ],
      "execution_count": 663,
      "outputs": [
        {
          "output_type": "execute_result",
          "data": {
            "text/plain": [
              "Text(0, 0.5, 'Happiness Scores')"
            ]
          },
          "metadata": {
            "tags": []
          },
          "execution_count": 663
        },
        {
          "output_type": "display_data",
          "data": {
            "image/png": "[encoded data removed]",
            "text/plain": [
              "<Figure size 432x288 with 1 Axes>"
            ]
          },
          "metadata": {
            "tags": [],
            "needs_background": "light"
          }
        }
      ]
    },
    {
      "cell_type": "code",
      "metadata": {
        "colab": {
          "base_uri": "https://localhost:8080/",
          "height": 282
        },
        "id": "TNJbXxmczC_d",
        "outputId": "3a47b4af-6d57-42b6-8a32-e1420aac56df"
      },
      "source": [
        "dataset['Perceptions of Corruption'].plot.box()"
      ],
      "execution_count": 664,
      "outputs": [
        {
          "output_type": "execute_result",
          "data": {
            "text/plain": [
              "<matplotlib.axes._subplots.AxesSubplot at 0x7f500dcf2f10>"
            ]
          },
          "metadata": {
            "tags": []
          },
          "execution_count": 664
        },
        {
          "output_type": "display_data",
          "data": {
            "image/png": "[encoded data removed]",
            "text/plain": [
              "<Figure size 432x288 with 1 Axes>"
            ]
          },
          "metadata": {
            "tags": [],
            "needs_background": "light"
          }
        }
      ]
    },
    {
      "cell_type": "code",
      "metadata": {
        "colab": {
          "base_uri": "https://localhost:8080/",
          "height": 722
        },
        "id": "QJaHcxKalo80",
        "outputId": "f56d9df3-f463-4f95-dce7-54507730f232"
      },
      "source": [
        "corr = dataset.corr()\n",
        "s , ax = plt.subplots( figsize =( 12 , 10 ) ) \n",
        "cmap = sns.diverging_palette( 220 , 10 , as_cmap = True )\n",
        "s = sns.heatmap(\n",
        "  corr,\n",
        "  cmap = cmap,\n",
        "  square=True,\n",
        "  cbar_kws={ 'shrink' : .9 },\n",
        "  ax=ax,\n",
        "  annot = True,\n",
        "  annot_kws = { 'fontsize' : 12 })"
      ],
      "execution_count": 665,
      "outputs": [
        {
          "output_type": "display_data",
          "data": {
            "image/png": "[encoded data removed]",
            "text/plain": [
              "<Figure size 864x720 with 2 Axes>"
            ]
          },
          "metadata": {
            "tags": [],
            "needs_background": "light"
          }
        }
      ]
    },
    {
      "cell_type": "code",
      "metadata": {
        "colab": {
          "base_uri": "https://localhost:8080/",
          "height": 221
        },
        "id": "cttlPU-gzSVf",
        "outputId": "173656e4-11cc-430d-ef54-05e107592a9b"
      },
      "source": [
        "dataset.drop('Generosity', axis=1, inplace=True) #Feature selection\n",
        "dataset.head()"
      ],
      "execution_count": 666,
      "outputs": [
        {
          "output_type": "execute_result",
          "data": {
            "text/html": [
              "<div>\n",
              "<style scoped>\n",
              "    .dataframe tbody tr th:only-of-type {\n",
              "        vertical-align: middle;\n",
              "    }\n",
              "\n",
              "    .dataframe tbody tr th {\n",
              "        vertical-align: top;\n",
              "    }\n",
              "\n",
              "    .dataframe thead th {\n",
              "        text-align: right;\n",
              "    }\n",
              "</style>\n",
              "<table border=\"1\" class=\"dataframe\">\n",
              "  <thead>\n",
              "    <tr style=\"text-align: right;\">\n",
              "      <th></th>\n",
              "      <th>Regional Indicator</th>\n",
              "      <th>Happiness Scores</th>\n",
              "      <th>Social Support</th>\n",
              "      <th>Healthy Life Expectancy</th>\n",
              "      <th>Freedom to Make Life Choices</th>\n",
              "      <th>Perceptions of Corruption</th>\n",
              "    </tr>\n",
              "  </thead>\n",
              "  <tbody>\n",
              "    <tr>\n",
              "      <th>0</th>\n",
              "      <td>2</td>\n",
              "      <td>7.8087</td>\n",
              "      <td>0.954330</td>\n",
              "      <td>71.900825</td>\n",
              "      <td>0.949172</td>\n",
              "      <td>0.195445</td>\n",
              "    </tr>\n",
              "    <tr>\n",
              "      <th>1</th>\n",
              "      <td>2</td>\n",
              "      <td>7.6456</td>\n",
              "      <td>0.955991</td>\n",
              "      <td>72.402504</td>\n",
              "      <td>0.951444</td>\n",
              "      <td>0.168489</td>\n",
              "    </tr>\n",
              "    <tr>\n",
              "      <th>2</th>\n",
              "      <td>2</td>\n",
              "      <td>7.5599</td>\n",
              "      <td>0.942847</td>\n",
              "      <td>74.102448</td>\n",
              "      <td>0.921337</td>\n",
              "      <td>0.303728</td>\n",
              "    </tr>\n",
              "    <tr>\n",
              "      <th>3</th>\n",
              "      <td>2</td>\n",
              "      <td>7.5045</td>\n",
              "      <td>0.974670</td>\n",
              "      <td>73.000000</td>\n",
              "      <td>0.948892</td>\n",
              "      <td>0.711710</td>\n",
              "    </tr>\n",
              "    <tr>\n",
              "      <th>4</th>\n",
              "      <td>2</td>\n",
              "      <td>7.4880</td>\n",
              "      <td>0.952487</td>\n",
              "      <td>73.200783</td>\n",
              "      <td>0.955750</td>\n",
              "      <td>0.263218</td>\n",
              "    </tr>\n",
              "  </tbody>\n",
              "</table>\n",
              "</div>"
            ],
            "text/plain": [
              "   Regional Indicator  ...  Perceptions of Corruption\n",
              "0                   2  ...                   0.195445\n",
              "1                   2  ...                   0.168489\n",
              "2                   2  ...                   0.303728\n",
              "3                   2  ...                   0.711710\n",
              "4                   2  ...                   0.263218\n",
              "\n",
              "[5 rows x 6 columns]"
            ]
          },
          "metadata": {
            "tags": []
          },
          "execution_count": 666
        }
      ]
    },
    {
      "cell_type": "code",
      "metadata": {
        "id": "sBq13n_KgrWK"
      },
      "source": [
        "X = dataset.drop('Happiness Scores', axis=1).values\n",
        "Y = dataset['Happiness Scores'].values\n",
        "\n",
        "x_train, x_test, y_train, y_test = train_test_split(X, Y, test_size=0.25, random_state=40) #Splitting Data"
      ],
      "execution_count": 667,
      "outputs": []
    },
    {
      "cell_type": "code",
      "metadata": {
        "colab": {
          "base_uri": "https://localhost:8080/"
        },
        "id": "22aN0W0i4Rzw",
        "outputId": "30bb29e0-8a7d-4959-b3ff-094decb98f35"
      },
      "source": [
        "#Creating polynomial models with different degrees to know which one has the highest R2 value\n",
        "\n",
        "for d in range(2, 11) :\n",
        "  poly = PolynomialFeatures(degree=d)\n",
        "  x_train_fit = poly.fit_transform(x_train)\n",
        "  x_test_ = poly.fit_transform(x_test)\n",
        "  poly_model = LinearRegression()\n",
        "  poly_model.fit(x_train_fit, y_train)\n",
        "  predictions = poly_model.predict(x_test_)\n",
        "  print(\"R squared for\", d, \"degrees :\", round(metrics.r2_score(y_test,predictions), 2))"
      ],
      "execution_count": 668,
      "outputs": [
        {
          "output_type": "stream",
          "text": [
            "R squared for 2 degrees : 0.81\n",
            "R squared for 3 degrees : -0.36\n",
            "R squared for 4 degrees : -541.3\n",
            "R squared for 5 degrees : -10118.26\n",
            "R squared for 6 degrees : -24851.61\n",
            "R squared for 7 degrees : -33590.88\n",
            "R squared for 8 degrees : -49006.51\n",
            "R squared for 9 degrees : -77464.2\n",
            "R squared for 10 degrees : -129694.81\n"
          ],
          "name": "stdout"
        }
      ]
    },
    {
      "cell_type": "code",
      "metadata": {
        "colab": {
          "base_uri": "https://localhost:8080/"
        },
        "id": "PdrItTExl4Ei",
        "outputId": "fb95b865-4dcc-4804-b170-00ba57c98233"
      },
      "source": [
        "poly = PolynomialFeatures(degree=2) #Choosing the best degree value\n",
        "x_train_fit = poly.fit_transform(x_train)\n",
        "x_test_ = poly.fit_transform(x_test)\n",
        "\n",
        "poly_model = LinearRegression() #Creating the polynomial model\n",
        "poly_model.fit(x_train_fit, y_train)\n",
        "poly_predictions = poly_model.predict(x_test_)\n",
        "\n",
        "poly_mse = metrics.mean_squared_error(y_test, poly_predictions)\n",
        "poly_rsquared = metrics.r2_score(y_test,poly_predictions)\n",
        "print(\"MSE: \", round(poly_mse, 2))\n",
        "print(\"R squared: \", round(poly_rsquared, 2), '\\n')\n",
        "\n",
        "for i in range(0, 11) :\n",
        "    print('happiness score:', round(y_test[i],2), '| prediction:', round(poly_predictions[i],2))\n"
      ],
      "execution_count": 669,
      "outputs": [
        {
          "output_type": "stream",
          "text": [
            "MSE:  0.19\n",
            "R squared:  0.81 \n",
            "\n",
            "happiness score: 4.19 | prediction: 4.68\n",
            "happiness score: 5.2 | prediction: 6.26\n",
            "happiness score: 5.89 | prediction: 6.48\n",
            "happiness score: 4.43 | prediction: 4.42\n",
            "happiness score: 4.83 | prediction: 4.53\n",
            "happiness score: 4.68 | prediction: 5.2\n",
            "happiness score: 5.75 | prediction: 5.91\n",
            "happiness score: 6.0 | prediction: 5.65\n",
            "happiness score: 4.37 | prediction: 3.78\n",
            "happiness score: 7.22 | prediction: 7.17\n",
            "happiness score: 4.89 | prediction: 5.09\n"
          ],
          "name": "stdout"
        }
      ]
    },
    {
      "cell_type": "code",
      "metadata": {
        "colab": {
          "base_uri": "https://localhost:8080/"
        },
        "id": "NMcSjBPul6c8",
        "outputId": "ebb2c121-27a2-4215-bf4d-7069731679a4"
      },
      "source": [
        "linear_model = LinearRegression() #Creating the multilinear model\n",
        "linear_model.fit(x_train,y_train)\n",
        "linear_predictions = linear_model.predict(x_test)\n",
        "\n",
        "linear_mse = metrics.mean_squared_error(y_test, linear_predictions)\n",
        "linear_rsquared = metrics.r2_score(y_test,linear_predictions)\n",
        "print(\"MSE: \", round(linear_mse, 2))\n",
        "print(\"R squared: \", round(linear_rsquared, 2), '\\n')\n",
        "\n",
        "for i in range(0, 11) :\n",
        "    print('happiness score:', round(y_test[i],2), '| prediction:', round(linear_predictions[i],2))"
      ],
      "execution_count": 670,
      "outputs": [
        {
          "output_type": "stream",
          "text": [
            "MSE:  0.17\n",
            "R squared:  0.83 \n",
            "\n",
            "happiness score: 4.19 | prediction: 4.73\n",
            "happiness score: 5.2 | prediction: 6.18\n",
            "happiness score: 5.89 | prediction: 6.16\n",
            "happiness score: 4.43 | prediction: 4.57\n",
            "happiness score: 4.83 | prediction: 5.17\n",
            "happiness score: 4.68 | prediction: 5.21\n",
            "happiness score: 5.75 | prediction: 5.76\n",
            "happiness score: 6.0 | prediction: 5.94\n",
            "happiness score: 4.37 | prediction: 4.58\n",
            "happiness score: 7.22 | prediction: 7.16\n",
            "happiness score: 4.89 | prediction: 5.09\n"
          ],
          "name": "stdout"
        }
      ]
    },
    {
      "cell_type": "code",
      "metadata": {
        "colab": {
          "base_uri": "https://localhost:8080/"
        },
        "id": "iPr2BNaD8iNS",
        "outputId": "dfdf8ead-c125-4d61-9e6c-b7958145b3b6"
      },
      "source": [
        "ranforest_model = RandomForestRegressor(n_estimators=100)  #Creating the random forest model\n",
        "ranforest_model.fit(x_train, y_train)\n",
        "ranforest_predictions = ranforest_model.predict(x_test)\n",
        "\n",
        "acc = ranforest_model.score(x_test, y_test)\n",
        "print(\"Accuracy:\", round(acc, 2), '\\n')\n",
        "\n",
        "for i in range(0, 11) :\n",
        "    print('happiness score:', round(y_test[i],2), '| prediction:', round(ranforest_predictions[i],2))"
      ],
      "execution_count": 671,
      "outputs": [
        {
          "output_type": "stream",
          "text": [
            "Accuracy: 0.81 \n",
            "\n",
            "happiness score: 4.19 | prediction: 5.08\n",
            "happiness score: 5.2 | prediction: 6.45\n",
            "happiness score: 5.89 | prediction: 6.1\n",
            "happiness score: 4.43 | prediction: 4.36\n",
            "happiness score: 4.83 | prediction: 5.02\n",
            "happiness score: 4.68 | prediction: 4.9\n",
            "happiness score: 5.75 | prediction: 5.61\n",
            "happiness score: 6.0 | prediction: 5.82\n",
            "happiness score: 4.37 | prediction: 4.13\n",
            "happiness score: 7.22 | prediction: 7.15\n",
            "happiness score: 4.89 | prediction: 3.98\n"
          ],
          "name": "stdout"
        }
      ]
    },
    {
      "cell_type": "code",
      "metadata": {
        "colab": {
          "base_uri": "https://localhost:8080/"
        },
        "id": "VfVpFnDaeLlz",
        "outputId": "6b57e058-0f55-4cc6-fd55-267fa5433792"
      },
      "source": [
        "decistree_model = DecisionTreeRegressor()  #Creating the random forest model\n",
        "decistree_model.fit(x_train, y_train)\n",
        "decistree_predictions = decistree_model.predict(x_test)\n",
        "\n",
        "acc = ranforest_model.score(x_test, y_test)\n",
        "print(\"Accuracy:\", round(acc, 2))\n",
        "\n",
        "for i in range(0, 11) :\n",
        "    print('happiness score:', round(y_test[i],2), '| prediction:', round(decistree_predictions[i],2))"
      ],
      "execution_count": 672,
      "outputs": [
        {
          "output_type": "stream",
          "text": [
            "Accuracy: 0.81\n",
            "happiness score: 4.19 | prediction: 4.83\n",
            "happiness score: 5.2 | prediction: 6.36\n",
            "happiness score: 5.89 | prediction: 6.14\n",
            "happiness score: 4.43 | prediction: 3.65\n",
            "happiness score: 4.83 | prediction: 4.67\n",
            "happiness score: 4.68 | prediction: 5.14\n",
            "happiness score: 5.75 | prediction: 4.88\n",
            "happiness score: 6.0 | prediction: 5.54\n",
            "happiness score: 4.37 | prediction: 4.29\n",
            "happiness score: 7.22 | prediction: 7.45\n",
            "happiness score: 4.89 | prediction: 3.31\n"
          ],
          "name": "stdout"
        }
      ]
    },
    {
      "cell_type": "markdown",
      "metadata": {
        "id": "6c99hmnpJ8e9"
      },
      "source": [
        "The multi-linear regression model has the highest accuracy(R-squared value) among all the models. So the best model to predict the happiness score is the multi-linear model."
      ]
    },
    {
      "cell_type": "markdown",
      "metadata": {
        "id": "ge3nBa4d6e-4"
      },
      "source": [
        "**Try the model :**"
      ]
    },
    {
      "cell_type": "code",
      "metadata": {
        "colab": {
          "base_uri": "https://localhost:8080/"
        },
        "id": "61bcM8qE7zou",
        "outputId": "c46a416c-9779-4b9a-95e7-b9590da96994"
      },
      "source": [
        "loc = input(\"What is your location ? \\n (Africa/Asia/Europe/North America/South America/Oceania/Latin America and Caribbean/North America/Europe & Asia : \")\n",
        "loc_lst = [\"Africa\", \"Asia\", \"Europe\", \"North America\", \"South America\", \"Oceania\", \"Latin America and Caribbean\", \"North America\", \"Europe & Asia\"]\n",
        "for l in range(len(loc_lst)) :\n",
        "  if loc == loc_lst[l] :\n",
        "    loc = l\n",
        "\n",
        "soc_supp = input(\"\\n If you were in trouble, do you have relatives or friends you can count on to help you whenever you need them? \\n Enter 0 for no or 1 for yes : \")\n",
        "hle = input(\"\\n What is the Healthy Life Expectancy of your country? : \")\n",
        "freedom = input(\"\\n Are you satisfied with your freedom to choose what you do with your life? \\n Enter 0 for no or 1 for yes  : \")\n",
        "corrup = input(\"\\n Is corruption widespread throughout the government and businesses? \\n Enter 0 for no or 1 for yes  : \")\n",
        "\n",
        "input_data = np.array([float(loc), float(soc_supp), float(hle), float(freedom), float(corrup)])\n",
        "input_data = np.reshape(input_data, (1,5))\n",
        "\n",
        "output_pred = linear_model.predict(input_data)\n",
        "print('\\n The happiness score based on your answers is', round(output_pred[0], 2), '(this prediction is', round(linear_rsquared*100, 2), '% accurate)')"
      ],
      "execution_count": 673,
      "outputs": [
        {
          "output_type": "stream",
          "text": [
            "What is your location ? \n",
            " (Africa/Asia/Europe/North America/South America/Oceania/Latin America and Caribbean/North America/Europe & Asia : Africa\n",
            "\n",
            " If you were in trouble, do you have relatives or friends you can count on to help you whenever you need them? \n",
            " Enter 0 for no or 1 for yes : 1\n",
            "\n",
            " What is the Healthy Life Expectancy of your country? : 66.9\n",
            "\n",
            " Are you satisfied with your freedom to choose what you do with your life? \n",
            " Enter 0 for no or 1 for yes  : 0\n",
            "\n",
            " Is corruption widespread throughout the government and businesses? \n",
            " Enter 0 for no or 1 for yes  : 1\n",
            "\n",
            " The happiness score based on your answers is 4.96 (this prediction is 83.5 % accurate)\n"
          ],
          "name": "stdout"
        }
      ]
    }
  ]
}